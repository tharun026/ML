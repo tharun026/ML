{
 "cells": [
  {
   "cell_type": "code",
   "execution_count": 2,
   "metadata": {},
   "outputs": [],
   "source": [
    "from matplotlib import pyplot as plt\n",
    "import numpy as np\n",
    "from PIL import Image\n",
    "from scipy import spatial\n",
    "loc = \"images/\""
   ]
  },
  {
   "cell_type": "code",
   "execution_count": 3,
   "metadata": {},
   "outputs": [],
   "source": [
    "img_path = loc + 'apple1.jpg'\n",
    "im = Image.open(img_path)\n"
   ]
  },
  {
   "cell_type": "code",
   "execution_count": 45,
   "metadata": {},
   "outputs": [],
   "source": [
    "# to maintain uniformity between images\n",
    "im.thumbnail((100,100))\n",
    "name = \"apple1\"\n",
    "im.save(loc + name + \"_p.jpg\",\"JPEG\")"
   ]
  },
  {
   "cell_type": "code",
   "execution_count": 4,
   "metadata": {},
   "outputs": [
    {
     "data": {
      "text/plain": [
       "array([255, 255, 255], dtype=uint8)"
      ]
     },
     "execution_count": 4,
     "metadata": {},
     "output_type": "execute_result"
    }
   ],
   "source": [
    "im_array = np.array(im)\n",
    "im_array[0,2]"
   ]
  },
  {
   "cell_type": "code",
   "execution_count": 6,
   "metadata": {},
   "outputs": [
    {
     "data": {
      "text/plain": [
       "(1500, 1500, 3)"
      ]
     },
     "execution_count": 6,
     "metadata": {},
     "output_type": "execute_result"
    }
   ],
   "source": [
    "im_array.shape"
   ]
  },
  {
   "cell_type": "code",
   "execution_count": 48,
   "metadata": {},
   "outputs": [],
   "source": [
    "for r in range(len(im_array)):\n",
    "    for c in range(len(im_array[r])):\n",
    "        if im_array[r,c][0]>150:\n",
    "            #easy way to swap variables\n",
    "            #x,y = y,x\n",
    "            im_array[r,c][0],im_array[r,c][1] = im_array[r,c][1],im_array[r,c][0]\n",
    "\n",
    "img = Image.fromarray(im_array)\n",
    "img.save(loc + name + \"_m.jpg\",\"JPEG\")"
   ]
  },
  {
   "cell_type": "code",
   "execution_count": 49,
   "metadata": {},
   "outputs": [],
   "source": [
    "with open(loc + name + \".txt\",\"w\") as ifile:\n",
    "    for row in im_array:\n",
    "        ifile.write(str(row)+\"\\n\")"
   ]
  },
  {
   "cell_type": "code",
   "execution_count": 50,
   "metadata": {},
   "outputs": [
    {
     "data": {
      "text/plain": [
       "58"
      ]
     },
     "execution_count": 50,
     "metadata": {},
     "output_type": "execute_result"
    }
   ],
   "source": [
    "#greyscale\n",
    "im_gs = im.convert('L')\n",
    "im_gs.save(loc + name + \"_gs.jpg\",\"JPEG\")\n",
    "im_array_gs = np.array(im_gs)\n",
    "im_array_gs[50,50]"
   ]
  },
  {
   "cell_type": "code",
   "execution_count": 51,
   "metadata": {},
   "outputs": [
    {
     "data": {
      "text/plain": [
       "array([[255, 255, 255, ..., 255, 255, 255],\n",
       "       [255, 255, 255, ..., 255, 255, 255],\n",
       "       [255, 255, 255, ..., 255, 255, 255],\n",
       "       ...,\n",
       "       [255, 255, 255, ..., 255, 255, 255],\n",
       "       [255, 255, 255, ..., 255, 255, 255],\n",
       "       [255, 255, 255, ..., 255, 255, 255]], dtype=uint8)"
      ]
     },
     "execution_count": 51,
     "metadata": {},
     "output_type": "execute_result"
    }
   ],
   "source": [
    "im_array_gs"
   ]
  },
  {
   "cell_type": "code",
   "execution_count": 55,
   "metadata": {},
   "outputs": [
    {
     "data": {
      "text/plain": [
       "array([  4, 183,  15], dtype=uint8)"
      ]
     },
     "execution_count": 55,
     "metadata": {},
     "output_type": "execute_result"
    }
   ],
   "source": [
    "#black white\n",
    "threshold = 200\n",
    "im_array_bw = im_array_gs.copy()\n",
    "im_array_bw[im_array_bw > threshold] = 255\n",
    "im_array_bw[im_array_bw <= threshold] = 0\n",
    "im_bw = Image.fromarray(im_array_bw)\n",
    "im_bw.save(loc + name + \"_bw.jpg\",\"JPEG\")\n",
    "im_array[50,50]"
   ]
  },
  {
   "cell_type": "code",
   "execution_count": 5,
   "metadata": {},
   "outputs": [
    {
     "data": {
      "text/plain": [
       "1500"
      ]
     },
     "execution_count": 5,
     "metadata": {},
     "output_type": "execute_result"
    }
   ],
   "source": [
    "len(im_array)"
   ]
  },
  {
   "cell_type": "code",
   "execution_count": 60,
   "metadata": {},
   "outputs": [],
   "source": [
    "#cut apple\n",
    "im_array_conv = im_array_gs.copy()\n",
    "#im_array_conv[50, :] = 255\n",
    "\n",
    "k = np.array([[0,1,0],[0,-1,1],[1,1,0]])\n",
    "output = np.zeros_like(im_conv)\n",
    "\n",
    "for r in range(len(im_array_conv)):\n",
    "    for c in range(len(im_array_conv[r])):\n",
    "        window = im_array_conv[r:r+len(k), c:c+len(k[0])]\n",
    "        if window.shape != k.shape: continue\n",
    "        window_conv = np.dot(window,k)\n",
    "        output[r:r+len(k),c:c+len(k[0])] = window_conv\n",
    "\n",
    "\n",
    "im_conv = Image.fromarray(im_array_conv)\n",
    "im_conv.save(loc + name + \"_conv.jpg\",\"JPEG\")"
   ]
  },
  {
   "cell_type": "code",
   "execution_count": null,
   "metadata": {},
   "outputs": [],
   "source": []
  }
 ],
 "metadata": {
  "kernelspec": {
   "display_name": "Python 3",
   "language": "python",
   "name": "python3"
  },
  "language_info": {
   "codemirror_mode": {
    "name": "ipython",
    "version": 3
   },
   "file_extension": ".py",
   "mimetype": "text/x-python",
   "name": "python",
   "nbconvert_exporter": "python",
   "pygments_lexer": "ipython3",
   "version": "3.7.3"
  }
 },
 "nbformat": 4,
 "nbformat_minor": 2
}
