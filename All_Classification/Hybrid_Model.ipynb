{
 "cells": [
  {
   "cell_type": "code",
   "execution_count": 1,
   "metadata": {},
   "outputs": [],
   "source": [
    "import numpy as np\n",
    "import pandas as pd"
   ]
  },
  {
   "cell_type": "code",
   "execution_count": 3,
   "metadata": {},
   "outputs": [
    {
     "name": "stdout",
     "output_type": "stream",
     "text": [
      "Total 400000 word vectors in Glove 6B 100d.\n"
     ]
    }
   ],
   "source": [
    "embeddings_index = {}\n",
    "f = open('H:\\Imarticus\\glove.6B.100d.txt',encoding='utf8')\n",
    "for line in f:\n",
    "    values = line.split()\n",
    "    word = values[0]\n",
    "    coefs = np.asarray(values[1:], dtype='float32')\n",
    "    embeddings_index[word] = coefs\n",
    "f.close()\n",
    "\n",
    "print('Total %s word vectors in Glove 6B 100d.' % len(embeddings_index))"
   ]
  },
  {
   "cell_type": "code",
   "execution_count": null,
   "metadata": {},
   "outputs": [],
   "source": [
    "MAX_TOKENS = 2000\n",
    "EMBEDDING_DIM = 100\n",
    "VALIDATION_SPLIT = 0.2"
   ]
  },
  {
   "cell_type": "code",
   "execution_count": null,
   "metadata": {},
   "outputs": [],
   "source": [
    "xdata = np.arange(int(x.shape[0]*MAX_TOKENS))\n",
    "xdata = xdata.reshape(x.shape[0],MAX_TOKENS)\n",
    "xdata = np.zeros_like(xdata)\n",
    "xdata.shape"
   ]
  },
  {
   "cell_type": "code",
   "execution_count": null,
   "metadata": {},
   "outputs": [],
   "source": [
    "r = 0\n",
    "for seq in x:\n",
    "    words = seq.split()\n",
    "    start = 0\n",
    "    for i in range(MAX_TOKENS):\n",
    "        if i >= len(workds): break\n",
    "        if words[i] in embeddings_index:\n",
    "            vector = embeddings_index[words[i]]\n",
    "            end = start + len(vector)\n",
    "            if len(xdata[r, start:end]) < len(vector): break\n",
    "            xdata[r, start: end] = vector\n",
    "        else:\n",
    "            end = start + 100\n",
    "        start = end + 1\n",
    "    r = r + 1"
   ]
  },
  {
   "cell_type": "code",
   "execution_count": null,
   "metadata": {},
   "outputs": [],
   "source": [
    "#checkpoint - sum of embeddings must be different\n",
    "nan = np.any(np.isnan(xdata)); print(nan)\n",
    "print(xdata.shape)\n",
    "print(sum(xdata[0]))\n",
    "print(sum(xdata[1]))"
   ]
  },
  {
   "cell_type": "code",
   "execution_count": null,
   "metadata": {},
   "outputs": [],
   "source": [
    "inf = np.all(np.isneginf(xdata)); print(inf)\n",
    "inf = np.all(np.isnf(xdata)); print(inf)\n",
    "xdata = np.nan_to_num(xdata)"
   ]
  },
  {
   "cell_type": "code",
   "execution_count": null,
   "metadata": {},
   "outputs": [],
   "source": [
    "#not needed\n",
    "feature_file = \"pfwt_vectors.pkl\""
   ]
  },
  {
   "cell_type": "code",
   "execution_count": null,
   "metadata": {},
   "outputs": [],
   "source": [
    "#not needed\n",
    "vectorizer = CountVectorizer()\n",
    "vec_train = vectorizer.fit_transform(x)\n",
    "pickle.dump(vectorizer.vocabulary_, open(feature_file,\"wb\"))\n",
    "print(vec_train.shape)"
   ]
  },
  {
   "cell_type": "code",
   "execution_count": null,
   "metadata": {},
   "outputs": [],
   "source": [
    "Xt = xdata\n",
    "indices = np.arrange(Xt.shape[0])\n",
    "np.random.shuffle(indices)\n",
    "data = Xt[indices]\n",
    "labels = y[indices]\n",
    "\n",
    "print(labels[0:5])\n",
    "print(Xt[0:5])\n",
    "\n",
    "nb_validation_samples = int(VALIDATION_SPLIT * data.shape[0])\n",
    "\n",
    "x_train = data[: -nb_validation_samples]\n",
    "y_train = labels[: -nb_validation_samples]\n",
    "x_val = data[-nb_validation_samples:]\n",
    "y_val = labels[-nb_validation_samples:]\n",
    "print(x_train.shape)\n",
    "print(y_train.shape)\n"
   ]
  }
 ],
 "metadata": {
  "kernelspec": {
   "display_name": "Python 3",
   "language": "python",
   "name": "python3"
  },
  "language_info": {
   "codemirror_mode": {
    "name": "ipython",
    "version": 3
   },
   "file_extension": ".py",
   "mimetype": "text/x-python",
   "name": "python",
   "nbconvert_exporter": "python",
   "pygments_lexer": "ipython3",
   "version": "3.7.3"
  }
 },
 "nbformat": 4,
 "nbformat_minor": 2
}
